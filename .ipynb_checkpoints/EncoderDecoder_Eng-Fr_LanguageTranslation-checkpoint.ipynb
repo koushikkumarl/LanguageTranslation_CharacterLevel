{
 "cells": [
  {
   "cell_type": "code",
   "execution_count": null,
   "metadata": {},
   "outputs": [],
   "source": [
    "#Run the code if the file is not unzipped!\n",
    "#import zipfile\n",
    "#with zipfile.ZipFile('fra-eng.zip', 'r') as zip_ref:\n",
    "#    zip_ref.extractall('fra-eng')"
   ]
  },
  {
   "cell_type": "code",
   "execution_count": 1,
   "metadata": {},
   "outputs": [],
   "source": [
    "import numpy as np\n",
    "from tensorflow import keras\n",
    "from tensorflow.keras.models import Model\n",
    "from tensorflow.keras.layers import Input, Dense, LSTM "
   ]
  },
  {
   "cell_type": "code",
   "execution_count": 2,
   "metadata": {},
   "outputs": [],
   "source": [
    "batch_size = 64  # Batch size for training.\n",
    "epochs = 100\n",
    "latent_dimensions = 256 \n",
    "num_samples = 15000 \n",
    "data_path = 'fra-eng/fra.txt'"
   ]
  },
  {
   "cell_type": "code",
   "execution_count": 3,
   "metadata": {},
   "outputs": [],
   "source": [
    "# Vectorize the data.\n",
    "input_texts = []\n",
    "target_texts = []\n",
    "input_characters = set()\n",
    "target_characters = set()"
   ]
  },
  {
   "cell_type": "code",
   "execution_count": 4,
   "metadata": {},
   "outputs": [],
   "source": [
    "with open(data_path, \"r\", encoding=\"utf-8\") as f:\n",
    "    lines = f.read().split(\"\\n\")\n",
    "\n",
    "for line in lines[: min(num_samples, len(lines) - 1)]:\n",
    "    input_text, target_text, _ = line.split(\"\\t\")\n",
    "    target_text = \"\\t\" + target_text + \"\\n\"\n",
    "    input_texts.append(input_text)\n",
    "    target_texts.append(target_text)\n",
    "    for char in input_text: \n",
    "        if char not in input_characters: \n",
    "            input_characters.add(char)\n",
    "    for char in target_text: \n",
    "        if char not in target_characters: \n",
    "            target_characters.add(char)"
   ]
  },
  {
   "cell_type": "code",
   "execution_count": 5,
   "metadata": {},
   "outputs": [
    {
     "name": "stdout",
     "output_type": "stream",
     "text": [
      "Number of samples: 15000\n",
      "Number of unique input tokens: 73\n",
      "Number of unique output tokens: 98\n",
      "Max sequence length for inputs: 17\n",
      "Max sequence length for outputs: 59\n"
     ]
    }
   ],
   "source": [
    "input_characters = sorted(list(input_characters))\n",
    "target_characters = sorted(list(target_characters))\n",
    "num_encoder_tokens = len(input_characters)\n",
    "num_decoder_tokens = len(target_characters)\n",
    "\n",
    "max_encoder_seq_length = max([len(txt) for txt in input_texts])\n",
    "max_decoder_seq_length = max([len(txt) for txt in target_texts])\n",
    "\n",
    "print(\"Number of samples:\", len(input_texts))\n",
    "print(\"Number of unique input tokens:\", num_encoder_tokens)\n",
    "print(\"Number of unique output tokens:\", num_decoder_tokens)\n",
    "print(\"Max sequence length for inputs:\", max_encoder_seq_length)\n",
    "print(\"Max sequence length for outputs:\", max_decoder_seq_length)"
   ]
  },
  {
   "cell_type": "code",
   "execution_count": 6,
   "metadata": {},
   "outputs": [],
   "source": [
    "input_token_index = dict([(char, i) for i, char in enumerate(input_characters)])\n",
    "target_token_index = dict([(char, i) for i, char in enumerate(target_characters)])"
   ]
  },
  {
   "cell_type": "code",
   "execution_count": 7,
   "metadata": {},
   "outputs": [],
   "source": [
    "encoder_input_data = np.zeros((len(input_texts), max_encoder_seq_length, num_encoder_tokens), dtype=\"float32\")\n",
    "decoder_input_data = np.zeros((len(input_texts), max_decoder_seq_length, num_decoder_tokens), dtype=\"float32\")\n",
    "decoder_target_data = np.zeros((len(input_texts), max_decoder_seq_length, num_decoder_tokens), dtype=\"float32\")"
   ]
  },
  {
   "cell_type": "code",
   "execution_count": 8,
   "metadata": {},
   "outputs": [],
   "source": [
    "for i, (input_text, target_text) in enumerate(zip(input_texts, target_texts)):\n",
    "    for t, char in enumerate(input_text):\n",
    "        encoder_input_data[i, t, input_token_index[char]] = 1.0\n",
    "    encoder_input_data[i, t + 1 :, input_token_index[\" \"]] = 1.0\n",
    "    for t, char in enumerate(target_text):\n",
    "        decoder_input_data[i, t, target_token_index[char]] = 1.0\n",
    "        if t > 0:\n",
    "            decoder_target_data[i, t - 1, target_token_index[char]] = 1.0\n",
    "    decoder_input_data[i, t + 1 :, target_token_index[\" \"]] = 1.0\n",
    "    decoder_target_data[i, t:, target_token_index[\" \"]] = 1.0"
   ]
  },
  {
   "cell_type": "code",
   "execution_count": 9,
   "metadata": {},
   "outputs": [],
   "source": [
    "# Define an input sequence and process it.\n",
    "encoder_inputs = keras.Input(shape=(None, num_encoder_tokens))\n",
    "encoder = keras.layers.LSTM(latent_dimensions, return_state=True)\n",
    "encoder_outputs, state_h, state_c = encoder(encoder_inputs)\n",
    "\n",
    "encoder_states = [state_h, state_c]\n",
    "decoder_inputs = keras.Input(shape=(None, num_decoder_tokens))\n",
    "\n",
    "decoder_lstm = keras.layers.LSTM(latent_dimensions, return_sequences=True, return_state=True)\n",
    "decoder_outputs, _, _ = decoder_lstm(decoder_inputs, initial_state=encoder_states)\n",
    "\n",
    "decoder_dense = keras.layers.Dense(num_decoder_tokens, activation=\"softmax\")\n",
    "decoder_outputs = decoder_dense(decoder_outputs)\n",
    "\n",
    "model = keras.Model([encoder_inputs, decoder_inputs], decoder_outputs)"
   ]
  },
  {
   "cell_type": "code",
   "execution_count": 10,
   "metadata": {},
   "outputs": [
    {
     "name": "stdout",
     "output_type": "stream",
     "text": [
      "Epoch 1/100\n",
      "188/188 [==============================] - 4s 20ms/step - loss: 1.1332 - accuracy: 0.7233 - val_loss: 1.0023 - val_accuracy: 0.7161\n",
      "Epoch 2/100\n",
      "188/188 [==============================] - 3s 17ms/step - loss: 0.7587 - accuracy: 0.7887 - val_loss: 0.7736 - val_accuracy: 0.7785\n",
      "Epoch 3/100\n",
      "188/188 [==============================] - 3s 17ms/step - loss: 0.6212 - accuracy: 0.8183 - val_loss: 0.6890 - val_accuracy: 0.7967\n",
      "Epoch 4/100\n",
      "188/188 [==============================] - 3s 17ms/step - loss: 0.5564 - accuracy: 0.8357 - val_loss: 0.6310 - val_accuracy: 0.8158\n",
      "Epoch 5/100\n",
      "188/188 [==============================] - 3s 17ms/step - loss: 0.5125 - accuracy: 0.8481 - val_loss: 0.6059 - val_accuracy: 0.8205\n",
      "Epoch 6/100\n",
      "188/188 [==============================] - 3s 17ms/step - loss: 0.4788 - accuracy: 0.8571 - val_loss: 0.5699 - val_accuracy: 0.8308\n",
      "Epoch 7/100\n",
      "188/188 [==============================] - 3s 17ms/step - loss: 0.4509 - accuracy: 0.8649 - val_loss: 0.5422 - val_accuracy: 0.8391\n",
      "Epoch 8/100\n",
      "188/188 [==============================] - 3s 18ms/step - loss: 0.4270 - accuracy: 0.8715 - val_loss: 0.5258 - val_accuracy: 0.8440\n",
      "Epoch 9/100\n",
      "188/188 [==============================] - 3s 17ms/step - loss: 0.4056 - accuracy: 0.8779 - val_loss: 0.5119 - val_accuracy: 0.8480\n",
      "Epoch 10/100\n",
      "188/188 [==============================] - 3s 18ms/step - loss: 0.3862 - accuracy: 0.8838 - val_loss: 0.5000 - val_accuracy: 0.8508\n",
      "Epoch 11/100\n",
      "188/188 [==============================] - 3s 18ms/step - loss: 0.3692 - accuracy: 0.8888 - val_loss: 0.4828 - val_accuracy: 0.8566\n",
      "Epoch 12/100\n",
      "188/188 [==============================] - 3s 17ms/step - loss: 0.3533 - accuracy: 0.8935 - val_loss: 0.4774 - val_accuracy: 0.8578\n",
      "Epoch 13/100\n",
      "188/188 [==============================] - 3s 17ms/step - loss: 0.3387 - accuracy: 0.8981 - val_loss: 0.4673 - val_accuracy: 0.8614\n",
      "Epoch 14/100\n",
      "188/188 [==============================] - 3s 17ms/step - loss: 0.3252 - accuracy: 0.9021 - val_loss: 0.4651 - val_accuracy: 0.8625\n",
      "Epoch 15/100\n",
      "188/188 [==============================] - 3s 18ms/step - loss: 0.3130 - accuracy: 0.9054 - val_loss: 0.4589 - val_accuracy: 0.8648\n",
      "Epoch 16/100\n",
      "188/188 [==============================] - 3s 18ms/step - loss: 0.3012 - accuracy: 0.9089 - val_loss: 0.4549 - val_accuracy: 0.8663\n",
      "Epoch 17/100\n",
      "188/188 [==============================] - 3s 18ms/step - loss: 0.2903 - accuracy: 0.9120 - val_loss: 0.4564 - val_accuracy: 0.8665\n",
      "Epoch 18/100\n",
      "188/188 [==============================] - 3s 18ms/step - loss: 0.2802 - accuracy: 0.9150 - val_loss: 0.4535 - val_accuracy: 0.8682\n",
      "Epoch 19/100\n",
      "188/188 [==============================] - 3s 17ms/step - loss: 0.2704 - accuracy: 0.9178 - val_loss: 0.4503 - val_accuracy: 0.8694\n",
      "Epoch 20/100\n",
      "188/188 [==============================] - 3s 17ms/step - loss: 0.2612 - accuracy: 0.9205 - val_loss: 0.4494 - val_accuracy: 0.8705\n",
      "Epoch 21/100\n",
      "188/188 [==============================] - 3s 18ms/step - loss: 0.2528 - accuracy: 0.9232 - val_loss: 0.4539 - val_accuracy: 0.8703\n",
      "Epoch 22/100\n",
      "188/188 [==============================] - 3s 18ms/step - loss: 0.2445 - accuracy: 0.9254 - val_loss: 0.4591 - val_accuracy: 0.8694\n",
      "Epoch 23/100\n",
      "188/188 [==============================] - 3s 17ms/step - loss: 0.2366 - accuracy: 0.9276 - val_loss: 0.4611 - val_accuracy: 0.8695\n",
      "Epoch 24/100\n",
      "188/188 [==============================] - 3s 17ms/step - loss: 0.2293 - accuracy: 0.9298 - val_loss: 0.4592 - val_accuracy: 0.8716\n",
      "Epoch 25/100\n",
      "188/188 [==============================] - 3s 17ms/step - loss: 0.2221 - accuracy: 0.9321 - val_loss: 0.4593 - val_accuracy: 0.8711\n",
      "Epoch 26/100\n",
      "188/188 [==============================] - 3s 17ms/step - loss: 0.2155 - accuracy: 0.9340 - val_loss: 0.4627 - val_accuracy: 0.8713\n",
      "Epoch 27/100\n",
      "188/188 [==============================] - 3s 17ms/step - loss: 0.2091 - accuracy: 0.9361 - val_loss: 0.4714 - val_accuracy: 0.8700\n",
      "Epoch 28/100\n",
      "188/188 [==============================] - 3s 17ms/step - loss: 0.2031 - accuracy: 0.9377 - val_loss: 0.4725 - val_accuracy: 0.8711\n",
      "Epoch 29/100\n",
      "188/188 [==============================] - 3s 17ms/step - loss: 0.1970 - accuracy: 0.9393 - val_loss: 0.4769 - val_accuracy: 0.8710\n",
      "Epoch 30/100\n",
      "188/188 [==============================] - 3s 17ms/step - loss: 0.1917 - accuracy: 0.9411 - val_loss: 0.4734 - val_accuracy: 0.8723\n",
      "Epoch 31/100\n",
      "188/188 [==============================] - 3s 17ms/step - loss: 0.1862 - accuracy: 0.9427 - val_loss: 0.4822 - val_accuracy: 0.8712\n",
      "Epoch 32/100\n",
      "188/188 [==============================] - 3s 17ms/step - loss: 0.1808 - accuracy: 0.9444 - val_loss: 0.4901 - val_accuracy: 0.8719\n",
      "Epoch 33/100\n",
      "188/188 [==============================] - 3s 17ms/step - loss: 0.1763 - accuracy: 0.9457 - val_loss: 0.4900 - val_accuracy: 0.8716\n",
      "Epoch 34/100\n",
      "188/188 [==============================] - 3s 17ms/step - loss: 0.1714 - accuracy: 0.9472 - val_loss: 0.4922 - val_accuracy: 0.8713\n",
      "Epoch 35/100\n",
      "188/188 [==============================] - 3s 17ms/step - loss: 0.1670 - accuracy: 0.9483 - val_loss: 0.4980 - val_accuracy: 0.8715\n",
      "Epoch 36/100\n",
      "188/188 [==============================] - 3s 17ms/step - loss: 0.1628 - accuracy: 0.9498 - val_loss: 0.5053 - val_accuracy: 0.8704\n",
      "Epoch 37/100\n",
      "188/188 [==============================] - 3s 18ms/step - loss: 0.1587 - accuracy: 0.9509 - val_loss: 0.5041 - val_accuracy: 0.8716\n",
      "Epoch 38/100\n",
      "188/188 [==============================] - 3s 18ms/step - loss: 0.1546 - accuracy: 0.9522 - val_loss: 0.5133 - val_accuracy: 0.8721\n",
      "Epoch 39/100\n",
      "188/188 [==============================] - 3s 17ms/step - loss: 0.1509 - accuracy: 0.9531 - val_loss: 0.5157 - val_accuracy: 0.8716\n",
      "Epoch 40/100\n",
      "188/188 [==============================] - 3s 17ms/step - loss: 0.1470 - accuracy: 0.9543 - val_loss: 0.5236 - val_accuracy: 0.8711\n",
      "Epoch 00040: early stopping\n"
     ]
    }
   ],
   "source": [
    "model.compile(\n",
    "    optimizer=\"rmsprop\", loss=\"categorical_crossentropy\", metrics=[\"accuracy\"]\n",
    ")\n",
    "import tensorflow\n",
    "from tensorflow.keras.callbacks import EarlyStopping\n",
    "\n",
    "callback  = tensorflow.keras.callbacks.EarlyStopping(\n",
    "    monitor=\"val_accuracy\",\n",
    "    min_delta=0,\n",
    "    patience=10,\n",
    "    verbose=1,\n",
    "    mode=\"auto\",\n",
    "    baseline=None,\n",
    "    restore_best_weights=False,\n",
    ")\n",
    "\n",
    "\n",
    "history = model.fit(\n",
    "    [encoder_input_data, decoder_input_data],\n",
    "    decoder_target_data,\n",
    "    batch_size=batch_size,\n",
    "    epochs=epochs,\n",
    "    validation_split=0.2,callbacks=[callback]\n",
    ")"
   ]
  },
  {
   "cell_type": "code",
   "execution_count": 11,
   "metadata": {},
   "outputs": [
    {
     "name": "stdout",
     "output_type": "stream",
     "text": [
      "dict_keys(['loss', 'accuracy', 'val_loss', 'val_accuracy'])\n"
     ]
    }
   ],
   "source": [
    "# list all data in history\n",
    "print(history.history.keys())"
   ]
  },
  {
   "cell_type": "code",
   "execution_count": 12,
   "metadata": {},
   "outputs": [
    {
     "data": {
      "image/png": "[encoded data removed]",
      "text/plain": [
       "<Figure size 432x288 with 1 Axes>"
      ]
     },
     "metadata": {
      "needs_background": "light"
     },
     "output_type": "display_data"
    },
    {
     "data": {
      "image/png": "[encoded data removed]",
      "text/plain": [
       "<Figure size 432x288 with 1 Axes>"
      ]
     },
     "metadata": {
      "needs_background": "light"
     },
     "output_type": "display_data"
    }
   ],
   "source": [
    "import matplotlib.pyplot as plt\n",
    "# summarize history for accuracy\n",
    "plt.plot(history.history['accuracy'])\n",
    "plt.plot(history.history['val_accuracy'])\n",
    "plt.title('model accuracy')\n",
    "plt.ylabel('accuracy')\n",
    "plt.xlabel('epoch')\n",
    "plt.legend(['train', 'test'], loc='upper left')\n",
    "plt.show()\n",
    "# summarize history for loss\n",
    "plt.plot(history.history['loss'])\n",
    "plt.plot(history.history['val_loss'])\n",
    "plt.title('model loss')\n",
    "plt.ylabel('loss')\n",
    "plt.xlabel('epoch')\n",
    "plt.legend(['train', 'test'], loc='upper left')\n",
    "plt.show()"
   ]
  },
  {
   "cell_type": "code",
   "execution_count": 13,
   "metadata": {},
   "outputs": [
    {
     "name": "stdout",
     "output_type": "stream",
     "text": [
      "WARNING:tensorflow:From C:\\Users\\Koushik\\.conda\\envs\\KerasEnv\\lib\\site-packages\\tensorflow\\python\\training\\tracking\\tracking.py:111: Model.state_updates (from tensorflow.python.keras.engine.training) is deprecated and will be removed in a future version.\n",
      "Instructions for updating:\n",
      "This property should not be used in TensorFlow 2.0, as updates are applied automatically.\n",
      "WARNING:tensorflow:From C:\\Users\\Koushik\\.conda\\envs\\KerasEnv\\lib\\site-packages\\tensorflow\\python\\training\\tracking\\tracking.py:111: Layer.updates (from tensorflow.python.keras.engine.base_layer) is deprecated and will be removed in a future version.\n",
      "Instructions for updating:\n",
      "This property should not be used in TensorFlow 2.0, as updates are applied automatically.\n",
      "INFO:tensorflow:Assets written to: s2s\\assets\n"
     ]
    }
   ],
   "source": [
    "# Save model\n",
    "model.save(\"s2s\")"
   ]
  },
  {
   "cell_type": "code",
   "execution_count": 14,
   "metadata": {},
   "outputs": [
    {
     "data": {
      "text/plain": [
       "<tf.Tensor 'input_1:0' shape=(None, None, 73) dtype=float32>"
      ]
     },
     "execution_count": 14,
     "metadata": {},
     "output_type": "execute_result"
    }
   ],
   "source": [
    "model.input[0]"
   ]
  },
  {
   "cell_type": "code",
   "execution_count": 15,
   "metadata": {},
   "outputs": [
    {
     "data": {
      "text/plain": [
       "[<tf.Tensor 'lstm/PartitionedCall:0' shape=(None, 256) dtype=float32>,\n",
       " <tf.Tensor 'lstm/PartitionedCall:2' shape=(None, 256) dtype=float32>,\n",
       " <tf.Tensor 'lstm/PartitionedCall:3' shape=(None, 256) dtype=float32>]"
      ]
     },
     "execution_count": 15,
     "metadata": {},
     "output_type": "execute_result"
    }
   ],
   "source": [
    "model.layers[2].output "
   ]
  },
  {
   "cell_type": "code",
   "execution_count": 16,
   "metadata": {},
   "outputs": [],
   "source": [
    "# Define sampling models\n",
    "# Restore the model and construct the encoder and decoder.\n",
    "model = keras.models.load_model(\"s2s\")\n",
    "\n",
    "encoder_inputs = model.input[0]  # input_1\n",
    "encoder_outputs, state_h_enc, state_c_enc = model.layers[2].output  # lstm_1\n",
    "encoder_states = [state_h_enc, state_c_enc]\n",
    "encoder_model = keras.Model(encoder_inputs, encoder_states)\n",
    "\n",
    "decoder_inputs = model.input[1]  # input_2\n",
    "decoder_state_input_h = keras.Input(shape=(latent_dimensions,), name=\"input_3\")\n",
    "decoder_state_input_c = keras.Input(shape=(latent_dimensions,), name=\"input_4\")\n",
    "decoder_states_inputs = [decoder_state_input_h, decoder_state_input_c]\n",
    "decoder_lstm = model.layers[3]\n",
    "decoder_outputs, state_h_dec, state_c_dec = decoder_lstm(\n",
    "    decoder_inputs, initial_state=decoder_states_inputs\n",
    ")\n",
    "decoder_states = [state_h_dec, state_c_dec]\n",
    "decoder_dense = model.layers[4]\n",
    "decoder_outputs = decoder_dense(decoder_outputs)\n",
    "decoder_model = keras.Model(\n",
    "    [decoder_inputs] + decoder_states_inputs, [decoder_outputs] + decoder_states\n",
    ")\n",
    "\n",
    "# Reverse-lookup token index to decode sequences back to\n",
    "# something readable.\n",
    "reverse_input_char_index = dict((i, char) for char, i in input_token_index.items())\n",
    "reverse_target_char_index = dict((i, char) for char, i in target_token_index.items())\n",
    "\n",
    "\n",
    "def decode_sequence(input_seq):\n",
    "    # Encode the input as state vectors.\n",
    "    states_value = encoder_model.predict(input_seq)\n",
    "\n",
    "    # Generate empty target sequence of length 1.\n",
    "    target_seq = np.zeros((1, 1, num_decoder_tokens))\n",
    "    # Populate the first character of target sequence with the start character.\n",
    "    target_seq[0, 0, target_token_index[\"\\t\"]] = 1.0\n",
    "\n",
    "    # Sampling loop for a batch of sequences\n",
    "    # (to simplify, here we assume a batch of size 1).\n",
    "    stop_condition = False\n",
    "    decoded_sentence = \"\"\n",
    "    while not stop_condition:\n",
    "        output_tokens, h, c = decoder_model.predict([target_seq] + states_value)\n",
    "\n",
    "        # Sample a token\n",
    "        sampled_token_index = np.argmax(output_tokens[0, -1, :])\n",
    "        sampled_char = reverse_target_char_index[sampled_token_index]\n",
    "        decoded_sentence += sampled_char\n",
    "\n",
    "        # Exit condition: either hit max length\n",
    "        # or find stop character.\n",
    "        if sampled_char == \"\\n\" or len(decoded_sentence) > max_decoder_seq_length:\n",
    "            stop_condition = True\n",
    "\n",
    "        # Update the target sequence (of length 1).\n",
    "        target_seq = np.zeros((1, 1, num_decoder_tokens))\n",
    "        target_seq[0, 0, sampled_token_index] = 1.0\n",
    "\n",
    "        # Update states\n",
    "        states_value = [h, c]\n",
    "    return decoded_sentence"
   ]
  },
  {
   "cell_type": "code",
   "execution_count": 17,
   "metadata": {},
   "outputs": [
    {
     "name": "stdout",
     "output_type": "stream",
     "text": [
      "-\n",
      "Input sentence: Go.\n",
      "Decoded sentence: Va !\n",
      "\n",
      "-\n",
      "Input sentence: Hi.\n",
      "Decoded sentence: Salut.\n",
      "\n",
      "-\n",
      "Input sentence: Hi.\n",
      "Decoded sentence: Salut.\n",
      "\n",
      "-\n",
      "Input sentence: Run!\n",
      "Decoded sentence: Courez !\n",
      "\n",
      "-\n",
      "Input sentence: Run!\n",
      "Decoded sentence: Courez !\n",
      "\n",
      "-\n",
      "Input sentence: Who?\n",
      "Decoded sentence: Qui d'imisent ?\n",
      "\n",
      "-\n",
      "Input sentence: Wow!\n",
      "Decoded sentence: Estaie-toi !\n",
      "\n",
      "-\n",
      "Input sentence: Fire!\n",
      "Decoded sentence: Appelez-nous !\n",
      "\n",
      "-\n",
      "Input sentence: Help!\n",
      "Decoded sentence: Parlez-moi, jonn le perte.\n",
      "\n",
      "-\n",
      "Input sentence: Jump.\n",
      "Decoded sentence: Faites !\n",
      "\n",
      "-\n",
      "Input sentence: Stop!\n",
      "Decoded sentence: Attention !\n",
      "\n",
      "-\n",
      "Input sentence: Stop!\n",
      "Decoded sentence: Attention !\n",
      "\n",
      "-\n",
      "Input sentence: Stop!\n",
      "Decoded sentence: Attention !\n",
      "\n",
      "-\n",
      "Input sentence: Wait!\n",
      "Decoded sentence: Attends !\n",
      "\n",
      "-\n",
      "Input sentence: Wait!\n",
      "Decoded sentence: Attends !\n",
      "\n",
      "-\n",
      "Input sentence: Go on.\n",
      "Decoded sentence: Allez avec moi.\n",
      "\n",
      "-\n",
      "Input sentence: Go on.\n",
      "Decoded sentence: Allez avec moi.\n",
      "\n",
      "-\n",
      "Input sentence: Go on.\n",
      "Decoded sentence: Allez avec moi.\n",
      "\n",
      "-\n",
      "Input sentence: Hello!\n",
      "Decoded sentence: Bonjour !\n",
      "\n",
      "-\n",
      "Input sentence: Hello!\n",
      "Decoded sentence: Bonjour !\n",
      "\n"
     ]
    }
   ],
   "source": [
    "for seq_index in range(20):\n",
    "    # Take one sequence (part of the training set)\n",
    "    # for trying out decoding.\n",
    "    input_seq = encoder_input_data[seq_index : seq_index + 1]\n",
    "    decoded_sentence = decode_sequence(input_seq)\n",
    "    print(\"-\")\n",
    "    print(\"Input sentence:\", input_texts[seq_index])\n",
    "    print(\"Decoded sentence:\", decoded_sentence)"
   ]
  },
  {
   "cell_type": "code",
   "execution_count": null,
   "metadata": {},
   "outputs": [],
   "source": []
  }
 ],
 "metadata": {
  "kernelspec": {
   "display_name": "KerasEnv",
   "language": "python",
   "name": "kerasenv"
  },
  "language_info": {
   "codemirror_mode": {
    "name": "ipython",
    "version": 3
   },
   "file_extension": ".py",
   "mimetype": "text/x-python",
   "name": "python",
   "nbconvert_exporter": "python",
   "pygments_lexer": "ipython3",
   "version": "3.7.9"
  }
 },
 "nbformat": 4,
 "nbformat_minor": 4
}
